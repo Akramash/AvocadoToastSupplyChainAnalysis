{
 "cells": [
  {
   "cell_type": "code",
   "execution_count": 2,
   "id": "2305528b",
   "metadata": {},
   "outputs": [],
   "source": [
    "import pandas as pd\n",
    "import matplotlib.pyplot as plt\n",
    "import seaborn as sns"
   ]
  },
  {
   "cell_type": "code",
   "execution_count": 3,
   "id": "96b5b120",
   "metadata": {},
   "outputs": [
    {
     "name": "stdout",
     "output_type": "stream",
     "text": [
      "The most common country of origin for avocados in the UK is: Peru\n"
     ]
    }
   ],
   "source": [
    "# Define columns and read avocado data\n",
    "avocado_columns = [\n",
    "    'code', 'lc', 'product_name_en', 'quantity', 'serving_size', 'packaging_tags',\n",
    "    'brands', 'brands_tags', 'categories_tags', 'labels_tags', 'countries',\n",
    "    'countries_tags', 'origins', 'origins_tags'\n",
    "]\n",
    "avocado_df = pd.read_csv('data/avocado.csv', sep='\\t', usecols=avocado_columns)\n",
    "\n",
    "# Load avocado category tags\n",
    "with open('data/relevant_avocado_categories.txt', 'r') as file:\n",
    "    avocado_tags = [line.strip() for line in file]\n",
    "\n",
    "# Filter avocado data based on categories and focus on the UK\n",
    "avocado_df_filtered = avocado_df[avocado_df['categories_tags'].apply(lambda x: any(tag in str(x).split(',') for tag in avocado_tags)) & (avocado_df['countries'].str.contains(\"United Kingdom\", na=False))].copy()\n",
    "\n",
    "# Clean country names and correct specific formatting issues\n",
    "avocado_df_filtered['origins_tags'] = avocado_df_filtered['origins_tags'].str.replace('[^A-Za-z ]', '', regex=True).str.replace('enperu', 'Peru')\n",
    "\n",
    "# Determine the most common avocado origin in the UK\n",
    "top_avocado_origin = avocado_df_filtered['origins_tags'].value_counts().idxmax()\n",
    "print(f\"The most common country of origin for avocados in the UK is: {top_avocado_origin}\")"
   ]
  },
  {
   "cell_type": "code",
   "execution_count": 4,
   "id": "53f082ee",
   "metadata": {},
   "outputs": [
    {
     "name": "stdout",
     "output_type": "stream",
     "text": [
      "The most common country of origin for olive oil in the UK is: Greece\n"
     ]
    }
   ],
   "source": [
    "# Load olive oil CSV file with specified columns and handle mixed types warning by specifying dtype\n",
    "oliveOil_columns = [\n",
    "    'code', 'lc', 'product_name_en', 'quantity', 'serving_size', 'packaging_tags',\n",
    "    'brands', 'brands_tags', 'categories_tags', 'labels_tags', 'countries',\n",
    "    'countries_tags', 'origins', 'origins_tags'\n",
    "]\n",
    "oliveOil_df = pd.read_csv('data/olive_oil.csv', sep='\\t', usecols=oliveOil_columns, dtype={'code': str})\n",
    "\n",
    "# Load category tags for olive oil with the correct encoding\n",
    "with open('data/relevant_olive_oil_categories.txt', 'r', encoding='utf-8') as file:\n",
    "    oliveOil_tags = [line.strip() for line in file]\n",
    "    \n",
    "# Ensure data is filtered for the UK and focus on non-empty category tags\n",
    "oliveOil_df = oliveOil_df.dropna(subset=['categories_tags'])\n",
    "\n",
    "# Apply filters for relevant categories and UK-specific data\n",
    "oliveOil_df_filtered = oliveOil_df[\n",
    "    oliveOil_df['categories_tags'].apply(lambda x: any(tag in str(x).split(',') for tag in oliveOil_tags)) &\n",
    "    (oliveOil_df['countries'].str.contains(\"United Kingdom\", na=False))\n",
    "].copy()\n",
    "\n",
    "# Clean country names in 'origins_tags'\n",
    "oliveOil_df_filtered['origins_tags'] = oliveOil_df_filtered['origins_tags'].str.replace('[^A-Za-z ]', '', regex=True)\n",
    "\n",
    "# Determine the most common olive oil origin in the UK and handle the 'en' prefix if present\n",
    "top_olive_oil_origin = oliveOil_df_filtered['origins_tags'].value_counts().idxmax()\n",
    "if top_olive_oil_origin.startswith('en'):\n",
    "    top_olive_oil_origin = top_olive_oil_origin[2:].capitalize()  # Remove 'en' and capitalize\n",
    "\n",
    "print(f\"The most common country of origin for olive oil in the UK is: {top_olive_oil_origin}\")\n"
   ]
  },
  {
   "cell_type": "code",
   "execution_count": 5,
   "id": "1b15ad08",
   "metadata": {},
   "outputs": [
    {
     "name": "stdout",
     "output_type": "stream",
     "text": [
      "The most common country of origin for sourdough in the UK is: United kingdom\n"
     ]
    }
   ],
   "source": [
    "# Define columns for loading sourdough data\n",
    "sourdough_columns = [\n",
    "    'code', 'lc', 'product_name_en', 'quantity', 'serving_size', 'packaging_tags',\n",
    "    'brands', 'brands_tags', 'categories_tags', 'labels_tags', 'countries',\n",
    "    'countries_tags', 'origins', 'origins_tags'\n",
    "]\n",
    "\n",
    "# Load the sourdough data from CSV\n",
    "sourdough_df = pd.read_csv('data/sourdough.csv', sep='\\t', usecols=sourdough_columns, dtype={'code': str})\n",
    "\n",
    "# Load category tags for sourdough with correct encoding\n",
    "with open('data/relevant_sourdough_categories.txt', 'r', encoding='utf-8') as file:\n",
    "    sourdough_tags = [line.strip() for line in file]\n",
    "\n",
    "# Drop rows with NaN in 'categories_tags' to ensure we're working with complete data\n",
    "sourdough_df = sourdough_df.dropna(subset=['categories_tags'])\n",
    "\n",
    "# Filter data based on relevant categories and focus specifically on the UK\n",
    "sourdough_df_filtered = sourdough_df[\n",
    "    sourdough_df['categories_tags'].apply(lambda x: any(tag in str(x).split(',') for tag in sourdough_tags)) &\n",
    "    (sourdough_df['countries'].str.contains(\"United Kingdom\", na=False))\n",
    "].copy()\n",
    "\n",
    "# Clean country names in 'origins_tags' and handle specific replacements\n",
    "sourdough_df_filtered['origins_tags'] = sourdough_df_filtered['origins_tags'].str.replace('[^A-Za-z ]', '', regex=True)\n",
    "sourdough_df_filtered['origins_tags'] = sourdough_df_filtered['origins_tags'].str.replace('unitedkingdom', 'United Kingdom')\n",
    "\n",
    "# Determine the most common sourdough origin in the UK\n",
    "top_sourdough_origin = sourdough_df_filtered['origins_tags'].value_counts().idxmax()\n",
    "if top_sourdough_origin.startswith('en'):\n",
    "    top_sourdough_origin = top_sourdough_origin[2:].capitalize()\n",
    "print(f\"The most common country of origin for sourdough in the UK is: {top_sourdough_origin}\")\n"
   ]
  }
 ],
 "metadata": {
  "kernelspec": {
   "display_name": "Python 3 (ipykernel)",
   "language": "python",
   "name": "python3"
  },
  "language_info": {
   "codemirror_mode": {
    "name": "ipython",
    "version": 3
   },
   "file_extension": ".py",
   "mimetype": "text/x-python",
   "name": "python",
   "nbconvert_exporter": "python",
   "pygments_lexer": "ipython3",
   "version": "3.9.13"
  }
 },
 "nbformat": 4,
 "nbformat_minor": 5
}
