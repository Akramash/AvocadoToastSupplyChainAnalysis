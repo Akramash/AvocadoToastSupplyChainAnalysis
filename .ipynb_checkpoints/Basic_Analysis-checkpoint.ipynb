{
 "cells": [
  {
   "cell_type": "code",
   "execution_count": 15,
   "id": "f63ae796",
   "metadata": {},
   "outputs": [],
   "source": [
    "import pandas as pd\n",
    "import matplotlib.pyplot as plt\n",
    "import seaborn as sns"
   ]
  },
  {
   "cell_type": "code",
   "execution_count": 20,
   "id": "105d6ccc",
   "metadata": {},
   "outputs": [],
   "source": [
    "def clean_country_name(name):\n",
    "    # Convert None or NaN to a string to prevent errors\n",
    "    if pd.isnull(name):\n",
    "        return \"Unknown\"\n",
    "    \n",
    "    # Remove 'en' prefix if present\n",
    "    if isinstance(name, str) and name.startswith('en'):\n",
    "        name = name[2:]\n",
    "        \n",
    "    # Keep only alphabetic characters and spaces\n",
    "    name = ''.join([c for c in name if c.isalpha() or c.isspace()])\n",
    "    \n",
    "    # Capitalize the first letter of each word and return\n",
    "    return ' '.join(word.capitalize() for word in name.split())"
   ]
  },
  {
   "cell_type": "code",
   "execution_count": 21,
   "id": "520ce17c",
   "metadata": {},
   "outputs": [
    {
     "name": "stdout",
     "output_type": "stream",
     "text": [
      "The most common country of origin for avocados in the UK is: Nan\n"
     ]
    }
   ],
   "source": [
    "# Load avocado data\n",
    "avocado_columns = ['code', 'lc', 'product_name_en', 'quantity', 'serving_size', 'packaging_tags',\n",
    "                   'brands', 'brands_tags', 'categories_tags', 'labels_tags', 'countries',\n",
    "                   'countries_tags', 'origins', 'origins_tags']\n",
    "avocado_df = pd.read_csv('data/avocado.csv', sep='\\t', usecols=avocado_columns)\n",
    "\n",
    "# Load category tags for avocados\n",
    "with open('data/relevant_avocado_categories.txt', 'r') as file:\n",
    "    avocado_tags = [line.strip() for line in file]\n",
    "\n",
    "# Filter avocado data based on categories and focus on the UK\n",
    "avocado_df_filtered = avocado_df[avocado_df['categories_tags'].apply(lambda x: any(tag in str(x).split(',') for tag in avocado_tags)) & (avocado_df['countries'].str.contains(\"United Kingdom\", na=False))].copy()\n",
    "\n",
    "# Clean country names for avocado data using the function\n",
    "avocado_df_filtered['origins_tags'] = avocado_df_filtered['origins_tags'].apply(clean_country_name)\n",
    "\n",
    "# Determine the most common avocado origin in the UK\n",
    "top_avocado_origin = avocado_df_filtered['origins_tags'].value_counts().idxmax()\n",
    "print(f\"The most common country of origin for avocados in the UK is: {top_avocado_origin}\")"
   ]
  },
  {
   "cell_type": "code",
   "execution_count": 11,
   "id": "60a31cb6",
   "metadata": {},
   "outputs": [
    {
     "name": "stdout",
     "output_type": "stream",
     "text": [
      "The most common country of origin for sourdough in the UK is: United kingdom\n"
     ]
    }
   ],
   "source": [
    "# Define columns for loading sourdough data\n",
    "sourdough_columns = [\n",
    "    'code', 'lc', 'product_name_en', 'quantity', 'serving_size', 'packaging_tags',\n",
    "    'brands', 'brands_tags', 'categories_tags', 'labels_tags', 'countries',\n",
    "    'countries_tags', 'origins', 'origins_tags'\n",
    "]\n",
    "\n",
    "# Load the sourdough data from CSV\n",
    "sourdough_df = pd.read_csv('data/sourdough.csv', sep='\\t', usecols=sourdough_columns, dtype={'code': str})\n",
    "\n",
    "# Load category tags for sourdough with correct encoding\n",
    "with open('data/relevant_sourdough_categories.txt', 'r', encoding='utf-8') as file:\n",
    "    sourdough_tags = [line.strip() for line in file]\n",
    "\n",
    "# Drop rows with NaN in 'categories_tags' to ensure we're working with complete data\n",
    "sourdough_df = sourdough_df.dropna(subset=['categories_tags'])\n",
    "\n",
    "# Filter data based on relevant categories and focus specifically on the UK\n",
    "sourdough_df_filtered = sourdough_df[\n",
    "    sourdough_df['categories_tags'].apply(lambda x: any(tag in str(x).split(',') for tag in sourdough_tags)) &\n",
    "    (sourdough_df['countries'].str.contains(\"United Kingdom\", na=False))\n",
    "].copy()\n",
    "\n",
    "# Clean country names in 'origins_tags' and handle specific replacements\n",
    "sourdough_df_filtered['origins_tags'] = sourdough_df_filtered['origins_tags'].str.replace('[^A-Za-z ]', '', regex=True)\n",
    "sourdough_df_filtered['origins_tags'] = sourdough_df_filtered['origins_tags'].str.replace('unitedkingdom', 'United Kingdom')\n",
    "\n",
    "# Determine the most common sourdough origin in the UK\n",
    "top_sourdough_origin = sourdough_df_filtered['origins_tags'].value_counts().idxmax()\n",
    "if top_sourdough_origin.startswith('en'):\n",
    "    top_sourdough_origin = top_sourdough_origin[2:].capitalize()\n",
    "print(f\"The most common country of origin for sourdough in the UK is: {top_sourdough_origin}\")\n"
   ]
  }
 ],
 "metadata": {
  "kernelspec": {
   "display_name": "Python 3 (ipykernel)",
   "language": "python",
   "name": "python3"
  },
  "language_info": {
   "codemirror_mode": {
    "name": "ipython",
    "version": 3
   },
   "file_extension": ".py",
   "mimetype": "text/x-python",
   "name": "python",
   "nbconvert_exporter": "python",
   "pygments_lexer": "ipython3",
   "version": "3.9.13"
  }
 },
 "nbformat": 4,
 "nbformat_minor": 5
}
